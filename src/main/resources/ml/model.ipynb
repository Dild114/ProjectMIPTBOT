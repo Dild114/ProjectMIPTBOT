{
 "cells": [
  {
   "cell_type": "code",
   "execution_count": null,
   "metadata": {},
   "outputs": [],
   "source": [
    "from transformers import AutoTokenizer, AutoModelForSequenceClassification\n",
    "from transformers import pipeline\n",
    "import pandas as pd\n",
    "\n",
    "# Загрузка предобученной модели и токенизатора\n",
    "model_name = \"cross-encoder/nli-roberta-base\"\n",
    "tokenizer = AutoTokenizer.from_pretrained(model_name)\n",
    "model = AutoModelForSequenceClassification.from_pretrained(model_name)\n",
    "\n",
    "# Создание пайплайна для классификации текстов\n",
    "classifier = pipeline('zero-shot-classification', model=model, tokenizer=tokenizer)\n",
    "\n",
    "# Пример текста для классификации\n",
    "text = \"Как настроить CI/CD для проекта на GitLab?\"\n",
    "\n",
    "# Возможные категории\n",
    "candidate_labels = [\"DevOps\", \"IT\", \"Frontend\", \"Backend\", \"Data Science\", \"Machine Learning\", \"Cybersecurity\", \"Cloud Computing\", \"Mobile Development\", \"Game Development\", \"Database Administration\"]\n",
    "\n",
    "# Классификация текста\n",
    "result = classifier(text, candidate_labels)\n",
    "\n",
    "# Форматирование результата в человекочитаемый вид\n",
    "df = pd.DataFrame({\n",
    "    'Category': result['labels'],\n",
    "    'Score': result['scores']\n",
    "})\n",
    "\n",
    "print(\"Detailed Scores:\")\n",
    "print(df)\n"
   ]
  }
 ],
 "metadata": {
  "kernelspec": {
   "display_name": "Python 3",
   "language": "python",
   "name": "python3"
  },
  "language_info": {
   "name": "python",
   "version": "3.12.2"
  }
 },
 "nbformat": 4,
 "nbformat_minor": 2
}
