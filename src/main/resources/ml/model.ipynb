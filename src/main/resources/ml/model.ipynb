{
 "cells": [
  {
   "cell_type": "code",
   "execution_count": 1,
   "metadata": {},
   "outputs": [
    {
     "name": "stderr",
     "output_type": "stream",
     "text": [
      "c:\\Users\\user\\AppData\\Local\\Programs\\Python\\Python312\\Lib\\site-packages\\tqdm\\auto.py:21: TqdmWarning: IProgress not found. Please update jupyter and ipywidgets. See https://ipywidgets.readthedocs.io/en/stable/user_install.html\n",
      "  from .autonotebook import tqdm as notebook_tqdm\n"
     ]
    },
    {
     "name": "stdout",
     "output_type": "stream",
     "text": [
      "Detailed Scores:\n",
      "                   Category     Score\n",
      "0   Database Administration  0.161468\n",
      "1                        IT  0.146864\n",
      "2             Cybersecurity  0.140994\n",
      "3        Mobile Development  0.112600\n",
      "4          Game Development  0.095111\n",
      "5              Data Science  0.070947\n",
      "6                    DevOps  0.067741\n",
      "7                   Backend  0.066192\n",
      "8                  Frontend  0.053824\n",
      "9           Cloud Computing  0.044029\n",
      "10         Machine Learning  0.040232\n"
     ]
    }
   ],
   "source": [
    "from transformers import AutoTokenizer, AutoModelForSequenceClassification\n",
    "from transformers import pipeline\n",
    "import pandas as pd\n",
    "\n",
    "# Загрузка предобученной модели и токенизатора\n",
    "model_name = \"cross-encoder/nli-roberta-base\"\n",
    "tokenizer = AutoTokenizer.from_pretrained(model_name)\n",
    "model = AutoModelForSequenceClassification.from_pretrained(model_name)\n",
    "\n",
    "# Создание пайплайна для классификации текстов\n",
    "classifier = pipeline('zero-shot-classification', model=model, tokenizer=tokenizer)\n",
    "\n",
    "# Пример текста для классификации\n",
    "text = \"Как настроить CI/CD для проекта на GitLab?\"\n",
    "\n",
    "# Возможные категории\n",
    "candidate_labels = [\"DevOps\", \"IT\", \"Frontend\", \"Backend\", \"Data Science\", \"Machine Learning\", \"Cybersecurity\", \"Cloud Computing\", \"Mobile Development\", \"Game Development\", \"Database Administration\"]\n",
    "\n",
    "# Классификация текста\n",
    "result = classifier(text, candidate_labels)\n",
    "\n",
    "# Форматирование результата в человекочитаемый вид\n",
    "df = pd.DataFrame({\n",
    "    'Category': result['labels'],\n",
    "    'Score': result['scores']\n",
    "})\n",
    "\n",
    "print(\"Detailed Scores:\")\n",
    "print(df)\n"
   ]
  }
 ],
 "metadata": {
  "kernelspec": {
   "display_name": "Python 3",
   "language": "python",
   "name": "python3"
  },
  "language_info": {
   "codemirror_mode": {
    "name": "ipython",
    "version": 3
   },
   "file_extension": ".py",
   "mimetype": "text/x-python",
   "name": "python",
   "nbconvert_exporter": "python",
   "pygments_lexer": "ipython3",
   "version": "3.12.2"
  }
 },
 "nbformat": 4,
 "nbformat_minor": 2
}
